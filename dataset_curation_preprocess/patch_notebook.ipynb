{
 "cells": [
  {
   "cell_type": "code",
   "execution_count": 1,
   "metadata": {},
   "outputs": [
    {
     "ename": "",
     "evalue": "",
     "output_type": "error",
     "traceback": [
      "\u001b[1;31mRunning cells with 'myenv (Python 3.11.4)' requires the ipykernel package.\n",
      "\u001b[1;31mRun the following command to install 'ipykernel' into the Python environment. \n",
      "\u001b[1;31mCommand: '\"d:/Senior Project/Patch Stitch Code/myenv/Scripts/python.exe\" -m pip install ipykernel -U --force-reinstall'"
     ]
    }
   ],
   "source": [
    "from PIL import Image, ImageOps\n",
    "import matplotlib.pyplot as plt\n",
    "import numpy as np\n",
    "import sys\n",
    "from tqdm import tqdm\n",
    "\n",
    "Image.MAX_IMAGE_PIXELS = sys.maxsize\n",
    "import os\n",
    "os.chdir('/src')\n",
    "from utils.patch import create_image_patches\n",
    "from utils.label import encode_bw_mask"
   ]
  },
  {
   "cell_type": "code",
   "execution_count": 2,
   "metadata": {},
   "outputs": [],
   "source": [
    "input_train = \"./data/BingRGB/dhaka_train.tif\"\n",
    "input_train_gt = \"./data/BingRGB/dhaka_train_gt.tif\"\n",
    "input_test = \"./data/BingRGB/dhaka_test.tif\"\n",
    "input_test_gt = \"./data/BingRGB/dhaka_test_gt.tif\"\n",
    "\n",
    "train_dir = \"./data/BingRGB/train\"\n",
    "test_dir = \"./data/BingRGB/test\"\n",
    "val_dir = \"./data/BingRGB/val\""
   ]
  },
  {
   "cell_type": "code",
   "execution_count": 3,
   "metadata": {},
   "outputs": [],
   "source": [
    "create_image_patches(input_train, input_train_gt, train_dir, patch_function=func)\n",
    "create_image_patches(input_test, input_test_gt, test_dir, stride=512, patch_function=encode_bw_mask)\n",
    "create_image_patches(input_test, input_test_gt, val_dir, stride=153,patch_function=encode_bw_mask)"
   ]
  },
  {
   "cell_type": "code",
   "execution_count": null,
   "metadata": {},
   "outputs": [],
   "source": []
  }
 ],
 "metadata": {
  "kernelspec": {
   "display_name": "myenv",
   "language": "python",
   "name": "python3"
  },
  "language_info": {
   "codemirror_mode": {
    "name": "ipython",
    "version": 3
   },
   "file_extension": ".py",
   "mimetype": "text/x-python",
   "name": "python",
   "nbconvert_exporter": "python",
   "pygments_lexer": "ipython3",
   "version": "3.11.4"
  },
  "orig_nbformat": 4
 },
 "nbformat": 4,
 "nbformat_minor": 2
}
